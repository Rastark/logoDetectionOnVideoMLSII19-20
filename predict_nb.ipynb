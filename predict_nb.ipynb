{
 "cells": [
  {
   "cell_type": "code",
   "execution_count": 5,
   "metadata": {
    "ExecuteTime": {
     "end_time": "2021-01-08T11:47:39.486620Z",
     "start_time": "2021-01-08T11:47:39.154285Z"
    }
   },
   "outputs": [
    {
     "name": "stdout",
     "output_type": "stream",
     "text": [
      "Fri Jan  8 12:47:39 2021       \n",
      "+-----------------------------------------------------------------------------+\n",
      "| NVIDIA-SMI 410.48                 Driver Version: 410.48                    |\n",
      "|-------------------------------+----------------------+----------------------+\n",
      "| GPU  Name        Persistence-M| Bus-Id        Disp.A | Volatile Uncorr. ECC |\n",
      "| Fan  Temp  Perf  Pwr:Usage/Cap|         Memory-Usage | GPU-Util  Compute M. |\n",
      "|===============================+======================+======================|\n",
      "|   0  Tesla P100-SXM2...  Off  | 00000000:05:00.0 Off |                    0 |\n",
      "| N/A   51C    P0   178W / 300W |  10768MiB / 16280MiB |     96%      Default |\n",
      "+-------------------------------+----------------------+----------------------+\n",
      "|   1  Tesla P100-SXM2...  Off  | 00000000:06:00.0 Off |                    0 |\n",
      "| N/A   50C    P0    56W / 300W |   4547MiB / 16280MiB |      0%      Default |\n",
      "+-------------------------------+----------------------+----------------------+\n",
      "|   2  Tesla P100-SXM2...  Off  | 00000000:84:00.0 Off |                    0 |\n",
      "| N/A   34C    P0    49W / 300W |  14783MiB / 16280MiB |      0%      Default |\n",
      "+-------------------------------+----------------------+----------------------+\n",
      "|   3  Tesla P100-SXM2...  Off  | 00000000:85:00.0 Off |                    0 |\n",
      "| N/A   59C    P0    69W / 300W |  16193MiB / 16280MiB |     99%      Default |\n",
      "+-------------------------------+----------------------+----------------------+\n",
      "                                                                               \n",
      "+-----------------------------------------------------------------------------+\n",
      "| Processes:                                                       GPU Memory |\n",
      "|  GPU       PID   Type   Process name                             Usage      |\n",
      "|=============================================================================|\n",
      "|    0     30814      C   ...nvidia/anaconda3/envs/tf-gpu/bin/python  2761MiB |\n",
      "|    0     48618      C   ...nvidia/anaconda3/envs/tf-gpu/bin/python  1921MiB |\n",
      "|    0     48784      C   ...nvidia/anaconda3/envs/tf-gpu/bin/python  3343MiB |\n",
      "|    0     66171      C   python3                                     2731MiB |\n",
      "|    1     81929      C   python3                                     2139MiB |\n",
      "|    1     83379      C   ...c37d64-eb3e-4c14-ba15-568c6ce343ee.json  1523MiB |\n",
      "|    1     84457      C   ...e/nvidia/anaconda3/envs/py37/bin/python   875MiB |\n",
      "|    2      5387      C   ...e/nvidia/anaconda3/envs/py37/bin/python 14773MiB |\n",
      "|    3     26354      C   ...nvidia/anaconda3/envs/tf-gpu/bin/python  1671MiB |\n",
      "|    3     57211      C   python                                      8729MiB |\n",
      "|    3     64350      C   ...nvidia/anaconda3/envs/tf-gpu/bin/python  5781MiB |\n",
      "+-----------------------------------------------------------------------------+\n"
     ]
    }
   ],
   "source": [
    "!nvidia-smi"
   ]
  },
  {
   "cell_type": "code",
   "execution_count": 6,
   "metadata": {
    "ExecuteTime": {
     "end_time": "2021-01-08T11:47:39.847904Z",
     "start_time": "2021-01-08T11:47:39.841942Z"
    }
   },
   "outputs": [],
   "source": [
    "import os\n",
    "os.environ[\"CUDA_DEVICE_ORDER\"]=\"PCI_BUS_ID\"   # see issue #152\n",
    "os.environ[\"CUDA_VISIBLE_DEVICES\"]=\"1\""
   ]
  },
  {
   "cell_type": "code",
   "execution_count": 17,
   "metadata": {
    "ExecuteTime": {
     "end_time": "2021-01-08T12:01:25.198801Z",
     "start_time": "2021-01-08T12:01:25.177263Z"
    }
   },
   "outputs": [],
   "source": [
    "from utils.dataset_loader import BasicDataset\n",
    "# from eval import eval_net\n",
    "from model.model import LogoDetection\n",
    "\n",
    "import torch\n",
    "from torch.utils.data import DataLoader\n",
    "import os\n",
    "from PIL import Image\n",
    "import numpy as np\n",
    "\n",
    "\n",
    "def get_model(load: str = None, model_path: str = None, checkpoint_dir: str = None):\n",
    "    if load:\n",
    "        if os.path.isfile(load):\n",
    "            return load\n",
    "    else:\n",
    "        if model_path and os.path.isfile(model_path):\n",
    "            return model_path\n",
    "        else:\n",
    "            if checkpoint_dir and os.path.isdir(checkpoint_dir):\n",
    "                only_files = [f for f in os.listdir(checkpoint_dir) if\n",
    "                              os.path.isfile(os.path.join(checkpoint_dir, f)) and '.pt' in f]\n",
    "                return f'{checkpoint_dir}{os.path.sep}{only_files[0]}'\n",
    "\n",
    "\n",
    "def predict_main(masks: list, target_imgs: list = None, bboxes_query: list = None, query_images: list = None,\n",
    "                 custom_model_path: str = None, model_path: str = None, checkpint_dir: str = None):\n",
    "    if target_imgs or bboxes_query or query_images:\n",
    "        assert len(target_imgs) == len(bboxes_query) == len(query_images), \\\n",
    "            \"Target images, bboxes and query images must have the same amount of elements\"\n",
    "    device = torch.device('cuda' if torch.cuda.is_available() else 'cpu')\n",
    "    model = LogoDetection(batch_norm=True, vgg_cfg='B')\n",
    "    model.load_state_dict(\n",
    "        torch.load(get_model(load=custom_model_path, model_path=model_path, checkpoint_dir=checkpint_dir),\n",
    "                   map_location=device),\n",
    "        strict=False\n",
    "    )\n",
    "    model.to(device=device)\n",
    "    for img_idx, img in enumerate(target_imgs):\n",
    "        dataset = BasicDataset.preprocess(target_img_path=img, query_full_img_path=query_images[img_idx],\n",
    "                                          bbox_path=bboxes_query[img_idx], mask_img_path=masks[img_idx], skip_bbox_lines=1)\n",
    "        # queries, targets,  = DataLoader(dataset, batch_size=1, shuffle=True, num_workers=1, pin_memory=True)\n",
    "        # for batch in dataset_loader:\n",
    "        queries, targets = dataset['query'], dataset['target']\n",
    "        queries = queries.to(device=device, dtype=torch.float32)\n",
    "        targets = targets.to(device=device, dtype=torch.float32)\n",
    "#        queries = np.expand_dims(queries, axis=0)\n",
    "#        targets = np.expand_dims(targets, axis=0)\n",
    "        queries = queries.unsqueeze(0)\n",
    "        targets = targets.unsqueeze(0)\n",
    "        print(f\"queries.shape: {queries.shape}\")\n",
    "        print(f\"targets.shape: {targets.shape}\")\n",
    "        with torch.no_grad():\n",
    "            pred = model(queries, targets)\n",
    "            pred_mask = pred.cpu().numpy()\n",
    "            pred_mask_pil = Image.fromarray(pred_mask)\n",
    "            true_mask_pil = Image.open(masks[img_idx])\n",
    "            dst = Image.new('RGB', (true_mask_pil.width + pred_mask_pil.width, true_mask_pil.height))\n",
    "            dst.paste(true_mask_pil, (0, 0))\n",
    "            dst.paste(pred_mask_pil, (true_mask_pil.width, 0))\n",
    "            dst.save(f\"{img_idx}.jpg\")"
   ]
  },
  {
   "cell_type": "code",
   "execution_count": 18,
   "metadata": {
    "ExecuteTime": {
     "end_time": "2021-01-08T12:01:26.130116Z",
     "start_time": "2021-01-08T12:01:25.480395Z"
    }
   },
   "outputs": [
    {
     "ename": "RuntimeError",
     "evalue": "Error(s) in loading state_dict for LogoDetection:\n\tsize mismatch for latent_repr.vgg16.7.weight: copying a param with shape torch.Size([64, 32, 3, 3]) from checkpoint, the shape in current model is torch.Size([64, 64, 3, 3]).\n\tsize mismatch for latent_repr.vgg16.10.weight: copying a param with shape torch.Size([64, 64, 3, 3]) from checkpoint, the shape in current model is torch.Size([128, 64, 3, 3]).\n\tsize mismatch for latent_repr.vgg16.10.bias: copying a param with shape torch.Size([64]) from checkpoint, the shape in current model is torch.Size([128]).\n\tsize mismatch for latent_repr.vgg16.19.weight: copying a param with shape torch.Size([256]) from checkpoint, the shape in current model is torch.Size([512, 512, 2, 2]).\n\tsize mismatch for latent_repr.vgg16.19.bias: copying a param with shape torch.Size([256]) from checkpoint, the shape in current model is torch.Size([512]).",
     "output_type": "error",
     "traceback": [
      "\u001b[0;31m---------------------------------------------------------------------------\u001b[0m",
      "\u001b[0;31mRuntimeError\u001b[0m                              Traceback (most recent call last)",
      "\u001b[0;32m<ipython-input-18-9559468548b2>\u001b[0m in \u001b[0;36m<module>\u001b[0;34m\u001b[0m\n\u001b[1;32m      8\u001b[0m     query_images=[\"/home/nvidia/workspace/alessandroaurora/one-shot_logo_detection/data/dataset/qmul_toplogo10/jpg/adidas0/adidas1.jpg\",\n\u001b[1;32m      9\u001b[0m                  \"/home/nvidia/workspace/alessandroaurora/one-shot_logo_detection/data/dataset/qmul_toplogo10/jpg/adidas0/adidas2.jpg\"],\n\u001b[0;32m---> 10\u001b[0;31m     \u001b[0mcustom_model_path\u001b[0m\u001b[0;34m=\u001b[0m\u001b[0;34m\"/home/nvidia/workspace/alessandroaurora/one-shot_logo_detection/data/stored_models/backups/CP_epoch14_lr_4e-5.pt\"\u001b[0m\u001b[0;34m\u001b[0m\u001b[0;34m\u001b[0m\u001b[0m\n\u001b[0m\u001b[1;32m     11\u001b[0m )\n",
      "\u001b[0;32m<ipython-input-17-398bd42fbd8c>\u001b[0m in \u001b[0;36mpredict_main\u001b[0;34m(masks, target_imgs, bboxes_query, query_images, custom_model_path, model_path, checkpint_dir)\u001b[0m\n\u001b[1;32m     34\u001b[0m         torch.load(get_model(load=custom_model_path, model_path=model_path, checkpoint_dir=checkpint_dir),\n\u001b[1;32m     35\u001b[0m                    map_location=device),\n\u001b[0;32m---> 36\u001b[0;31m         \u001b[0mstrict\u001b[0m\u001b[0;34m=\u001b[0m\u001b[0;32mFalse\u001b[0m\u001b[0;34m\u001b[0m\u001b[0;34m\u001b[0m\u001b[0m\n\u001b[0m\u001b[1;32m     37\u001b[0m     )\n\u001b[1;32m     38\u001b[0m     \u001b[0mmodel\u001b[0m\u001b[0;34m.\u001b[0m\u001b[0mto\u001b[0m\u001b[0;34m(\u001b[0m\u001b[0mdevice\u001b[0m\u001b[0;34m=\u001b[0m\u001b[0mdevice\u001b[0m\u001b[0;34m)\u001b[0m\u001b[0;34m\u001b[0m\u001b[0;34m\u001b[0m\u001b[0m\n",
      "\u001b[0;32m~/anaconda3/envs/py37/lib/python3.7/site-packages/torch/nn/modules/module.py\u001b[0m in \u001b[0;36mload_state_dict\u001b[0;34m(self, state_dict, strict)\u001b[0m\n\u001b[1;32m    843\u001b[0m         \u001b[0;32mif\u001b[0m \u001b[0mlen\u001b[0m\u001b[0;34m(\u001b[0m\u001b[0merror_msgs\u001b[0m\u001b[0;34m)\u001b[0m \u001b[0;34m>\u001b[0m \u001b[0;36m0\u001b[0m\u001b[0;34m:\u001b[0m\u001b[0;34m\u001b[0m\u001b[0;34m\u001b[0m\u001b[0m\n\u001b[1;32m    844\u001b[0m             raise RuntimeError('Error(s) in loading state_dict for {}:\\n\\t{}'.format(\n\u001b[0;32m--> 845\u001b[0;31m                                self.__class__.__name__, \"\\n\\t\".join(error_msgs)))\n\u001b[0m\u001b[1;32m    846\u001b[0m         \u001b[0;32mreturn\u001b[0m \u001b[0m_IncompatibleKeys\u001b[0m\u001b[0;34m(\u001b[0m\u001b[0mmissing_keys\u001b[0m\u001b[0;34m,\u001b[0m \u001b[0munexpected_keys\u001b[0m\u001b[0;34m)\u001b[0m\u001b[0;34m\u001b[0m\u001b[0;34m\u001b[0m\u001b[0m\n\u001b[1;32m    847\u001b[0m \u001b[0;34m\u001b[0m\u001b[0m\n",
      "\u001b[0;31mRuntimeError\u001b[0m: Error(s) in loading state_dict for LogoDetection:\n\tsize mismatch for latent_repr.vgg16.7.weight: copying a param with shape torch.Size([64, 32, 3, 3]) from checkpoint, the shape in current model is torch.Size([64, 64, 3, 3]).\n\tsize mismatch for latent_repr.vgg16.10.weight: copying a param with shape torch.Size([64, 64, 3, 3]) from checkpoint, the shape in current model is torch.Size([128, 64, 3, 3]).\n\tsize mismatch for latent_repr.vgg16.10.bias: copying a param with shape torch.Size([64]) from checkpoint, the shape in current model is torch.Size([128]).\n\tsize mismatch for latent_repr.vgg16.19.weight: copying a param with shape torch.Size([256]) from checkpoint, the shape in current model is torch.Size([512, 512, 2, 2]).\n\tsize mismatch for latent_repr.vgg16.19.bias: copying a param with shape torch.Size([256]) from checkpoint, the shape in current model is torch.Size([512])."
     ]
    }
   ],
   "source": [
    "predict_main(\n",
    "    masks=[\"/home/nvidia/workspace/alessandroaurora/one-shot_logo_detection/data/dataset/qmul_toplogo10/masks/adidas0/adidas1.jpg.bboxes.txt\",\n",
    "           \"/home/nvidia/workspace/alessandroaurora/one-shot_logo_detection/data/dataset/qmul_toplogo10/masks/adidas0/adidas2.jpg.bboxes.txt\"],\n",
    "    target_imgs=[\"/home/nvidia/workspace/alessandroaurora/one-shot_logo_detection/data/dataset/qmul_toplogo10/jpg/adidas0/adidas1.jpg\",\n",
    "                 \"/home/nvidia/workspace/alessandroaurora/one-shot_logo_detection/data/dataset/qmul_toplogo10/jpg/adidas0/adidas2.jpg\"],\n",
    "    bboxes_query=[\"/home/nvidia/workspace/alessandroaurora/one-shot_logo_detection/data/dataset/qmul_toplogo10/masks/adidas0/adidas1.jpg.bboxes.txt\",\n",
    "           \"/home/nvidia/workspace/alessandroaurora/one-shot_logo_detection/data/dataset/qmul_toplogo10/masks/adidas0/adidas2.jpg.bboxes.txt\"],\n",
    "    query_images=[\"/home/nvidia/workspace/alessandroaurora/one-shot_logo_detection/data/dataset/qmul_toplogo10/jpg/adidas0/adidas1.jpg\",\n",
    "                 \"/home/nvidia/workspace/alessandroaurora/one-shot_logo_detection/data/dataset/qmul_toplogo10/jpg/adidas0/adidas2.jpg\"],\n",
    "    custom_model_path=\"/home/nvidia/workspace/alessandroaurora/one-shot_logo_detection/data/stored_models/backups/CP_epoch14_lr_4e-5.pt\"\n",
    ")"
   ]
  },
  {
   "cell_type": "code",
   "execution_count": null,
   "metadata": {},
   "outputs": [],
   "source": []
  },
  {
   "cell_type": "code",
   "execution_count": null,
   "metadata": {
    "ExecuteTime": {
     "end_time": "2021-01-08T11:41:25.247265Z",
     "start_time": "2021-01-08T11:41:19.272Z"
    }
   },
   "outputs": [],
   "source": [
    "from utils.dataset_loader import BasicDataset\n",
    "BasicDataset.preprocess(\n",
    "    target_img_path=\"\"\n",
    ")"
   ]
  }
 ],
 "metadata": {
  "kernelspec": {
   "display_name": "Python 3",
   "language": "python",
   "name": "python3"
  },
  "language_info": {
   "codemirror_mode": {
    "name": "ipython",
    "version": 3
   },
   "file_extension": ".py",
   "mimetype": "text/x-python",
   "name": "python",
   "nbconvert_exporter": "python",
   "pygments_lexer": "ipython3",
   "version": "3.7.4"
  },
  "toc": {
   "base_numbering": 1,
   "nav_menu": {},
   "number_sections": true,
   "sideBar": true,
   "skip_h1_title": false,
   "title_cell": "Table of Contents",
   "title_sidebar": "Contents",
   "toc_cell": false,
   "toc_position": {},
   "toc_section_display": true,
   "toc_window_display": false
  }
 },
 "nbformat": 4,
 "nbformat_minor": 4
}
